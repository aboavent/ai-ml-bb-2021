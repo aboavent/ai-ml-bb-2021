{
 "cells": [
  {
   "cell_type": "markdown",
   "metadata": {},
   "source": [
    "# Introduction to Pandas for Feature Engineering\n",
    "Welcome! If you are looking for a short and sweet, but effective, introduction to some of the coding steps required to perform feature engineering and data analysis for machine learning, look no further. \n",
    "\n",
    "This notebook will use a genomics data set, analyze it, and prepare it for machine learning modeling. \n",
    "\n",
    "I'm assuming you are familiar with writing and reading code, and that you've touched some Python syntax. I'll help ramp you up, very quickly."
   ]
  },
  {
   "cell_type": "markdown",
   "metadata": {},
   "source": [
    "### Get libraries\n",
    "First, we'll want to reference the open source libraries that make all of this possible. I'm using Pandas as my backbone here, but we'll build ontop of that as we need more and more libraries."
   ]
  },
  {
   "cell_type": "code",
   "execution_count": 99,
   "metadata": {},
   "outputs": [],
   "source": [
    "import pandas as pd \n",
    "import numpy as np\n",
    "import matplotlib.pyplot as plt\n",
    "import multiprocessing\n",
    "from multiprocessing import Pool\n",
    "\n",
    "\n",
    "%matplotlib inline"
   ]
  },
  {
   "cell_type": "markdown",
   "metadata": {},
   "source": [
    "### Get some data\n",
    "Ok! We're going to pull some genomics data, in particular with respect to its relationshp to human health. This is a public dataset coming from ClinVar.\n",
    "- https://www.ncbi.nlm.nih.gov/clinvar/ "
   ]
  },
  {
   "cell_type": "code",
   "execution_count": 4,
   "metadata": {},
   "outputs": [],
   "source": [
    "# !wget ftp://ftp.ncbi.nlm.nih.gov/pub/clinvar/vcf_GRCh37/clinvar.vcf.gz"
   ]
  },
  {
   "cell_type": "markdown",
   "metadata": {},
   "source": [
    "### Load into a Pandas DataFrame"
   ]
  },
  {
   "cell_type": "markdown",
   "metadata": {},
   "source": [
    "If you're thinking, now what on Earth is a .vcf file, that makes two of us! Fortunately the kind developers who announced this dataset also have a script that converts this into a csv file. That script is hosted on Github, right here: \n",
    "- https://github.com/arvkevi/clinvar-kaggle/blob/master/process_clinvar.py \n",
    "\n",
    "Let's clone that repository, and run this script."
   ]
  },
  {
   "cell_type": "code",
   "execution_count": 5,
   "metadata": {},
   "outputs": [],
   "source": [
    "# !git clone https://github.com/arvkevi/clinvar-kaggle.git"
   ]
  },
  {
   "cell_type": "code",
   "execution_count": 6,
   "metadata": {},
   "outputs": [
    {
     "name": "stdout",
     "output_type": "stream",
     "text": [
      "clinvar-kaggle/process_clinvar.py:50: FutureWarning: set_value is deprecated and will be removed in a future release. Please use .at[] or .iat[] accessors instead\r\n",
      "  cv_df.set_value(cv_df.CLNSIGCONF.notnull(), 'CLASS', 1)\r\n"
     ]
    }
   ],
   "source": [
    "!cp clinvar.vcf.gz /home/ec2-user/SageMaker/clinvar-kaggle\n",
    "!python clinvar-kaggle/process_clinvar.py"
   ]
  },
  {
   "cell_type": "code",
   "execution_count": 1,
   "metadata": {},
   "outputs": [],
   "source": [
    "!cp /home/ec2-user/SageMaker/clinvar_conflicting.csv raw_data.csv"
   ]
  },
  {
   "cell_type": "markdown",
   "metadata": {},
   "source": [
    "If you're able to run that copy command, then you successfully converted the vcf file! Congrats. Now, let's load that into a dataframe. Based on the Python KungFu that was performed by Kevin Arvkei, now we can use the single most import function in pandas `pd.read_csv()`. \n",
    "\n",
    "You'll want to make sure you have `import pandas as pd` in order to use the `read_csv` method. It just needs a csv file name, and it will turn that into a dataframe."
   ]
  },
  {
   "cell_type": "code",
   "execution_count": 6,
   "metadata": {},
   "outputs": [
    {
     "name": "stderr",
     "output_type": "stream",
     "text": [
      "/home/ec2-user/anaconda3/envs/python3/lib/python3.6/site-packages/IPython/core/interactiveshell.py:2785: DtypeWarning: Columns (0) have mixed types. Specify dtype option on import or set low_memory=False.\n",
      "  interactivity=interactivity, compiler=compiler, result=result)\n"
     ]
    }
   ],
   "source": [
    "df = pd.read_csv('raw_data.csv')"
   ]
  },
  {
   "cell_type": "markdown",
   "metadata": {},
   "source": [
    "As long as that worked, now you'll perform the second most commonly used function in Pandas. `df.head()`. That gives you a visual confirmation on all of your data. Give it a try!"
   ]
  },
  {
   "cell_type": "code",
   "execution_count": 7,
   "metadata": {},
   "outputs": [
    {
     "data": {
      "text/html": [
       "<div>\n",
       "<style scoped>\n",
       "    .dataframe tbody tr th:only-of-type {\n",
       "        vertical-align: middle;\n",
       "    }\n",
       "\n",
       "    .dataframe tbody tr th {\n",
       "        vertical-align: top;\n",
       "    }\n",
       "\n",
       "    .dataframe thead th {\n",
       "        text-align: right;\n",
       "    }\n",
       "</style>\n",
       "<table border=\"1\" class=\"dataframe\">\n",
       "  <thead>\n",
       "    <tr style=\"text-align: right;\">\n",
       "      <th></th>\n",
       "      <th>CHROM</th>\n",
       "      <th>POS</th>\n",
       "      <th>REF</th>\n",
       "      <th>ALT</th>\n",
       "      <th>AF_ESP</th>\n",
       "      <th>AF_EXAC</th>\n",
       "      <th>AF_TGP</th>\n",
       "      <th>CLNDISDB</th>\n",
       "      <th>CLNDN</th>\n",
       "      <th>CLNHGVS</th>\n",
       "      <th>CLNVC</th>\n",
       "      <th>GENEINFO</th>\n",
       "      <th>MC</th>\n",
       "      <th>ORIGIN</th>\n",
       "      <th>CLNVI</th>\n",
       "      <th>CLNDISDBINCL</th>\n",
       "      <th>CLNDNINCL</th>\n",
       "      <th>CLNSIGINCL</th>\n",
       "      <th>CLASS</th>\n",
       "    </tr>\n",
       "  </thead>\n",
       "  <tbody>\n",
       "    <tr>\n",
       "      <th>0</th>\n",
       "      <td>1</td>\n",
       "      <td>955563</td>\n",
       "      <td>G</td>\n",
       "      <td>C</td>\n",
       "      <td>0.00000</td>\n",
       "      <td>0.00114</td>\n",
       "      <td>0.00958</td>\n",
       "      <td>MedGen:C3808739,OMIM:615120|MedGen:CN169374</td>\n",
       "      <td>Myasthenic_syndrome,_congenital,_8|not_specified</td>\n",
       "      <td>NC_000001.10:g.955563G&gt;C</td>\n",
       "      <td>single_nucleotide_variant</td>\n",
       "      <td>AGRN:375790</td>\n",
       "      <td>SO:0001583|missense_variant</td>\n",
       "      <td>1.0</td>\n",
       "      <td>NaN</td>\n",
       "      <td>NaN</td>\n",
       "      <td>NaN</td>\n",
       "      <td>NaN</td>\n",
       "      <td>0</td>\n",
       "    </tr>\n",
       "    <tr>\n",
       "      <th>1</th>\n",
       "      <td>1</td>\n",
       "      <td>955597</td>\n",
       "      <td>G</td>\n",
       "      <td>T</td>\n",
       "      <td>0.00000</td>\n",
       "      <td>0.42418</td>\n",
       "      <td>0.28255</td>\n",
       "      <td>MedGen:CN169374</td>\n",
       "      <td>not_specified</td>\n",
       "      <td>NC_000001.10:g.955597G&gt;T</td>\n",
       "      <td>single_nucleotide_variant</td>\n",
       "      <td>AGRN:375790</td>\n",
       "      <td>SO:0001819|synonymous_variant</td>\n",
       "      <td>1.0</td>\n",
       "      <td>NaN</td>\n",
       "      <td>NaN</td>\n",
       "      <td>NaN</td>\n",
       "      <td>NaN</td>\n",
       "      <td>0</td>\n",
       "    </tr>\n",
       "    <tr>\n",
       "      <th>2</th>\n",
       "      <td>1</td>\n",
       "      <td>955619</td>\n",
       "      <td>G</td>\n",
       "      <td>C</td>\n",
       "      <td>0.00000</td>\n",
       "      <td>0.03475</td>\n",
       "      <td>0.00879</td>\n",
       "      <td>MedGen:C3808739,OMIM:615120|MedGen:CN169374|Me...</td>\n",
       "      <td>Myasthenic_syndrome,_congenital,_8|not_specifi...</td>\n",
       "      <td>NC_000001.10:g.955619G&gt;C</td>\n",
       "      <td>single_nucleotide_variant</td>\n",
       "      <td>AGRN:375790</td>\n",
       "      <td>SO:0001583|missense_variant</td>\n",
       "      <td>1.0</td>\n",
       "      <td>NaN</td>\n",
       "      <td>NaN</td>\n",
       "      <td>NaN</td>\n",
       "      <td>NaN</td>\n",
       "      <td>1</td>\n",
       "    </tr>\n",
       "    <tr>\n",
       "      <th>3</th>\n",
       "      <td>1</td>\n",
       "      <td>957568</td>\n",
       "      <td>A</td>\n",
       "      <td>G</td>\n",
       "      <td>0.01761</td>\n",
       "      <td>0.00493</td>\n",
       "      <td>0.01418</td>\n",
       "      <td>MedGen:CN169374</td>\n",
       "      <td>not_specified</td>\n",
       "      <td>NC_000001.10:g.957568A&gt;G</td>\n",
       "      <td>single_nucleotide_variant</td>\n",
       "      <td>AGRN:375790</td>\n",
       "      <td>SO:0001627|intron_variant</td>\n",
       "      <td>1.0</td>\n",
       "      <td>NaN</td>\n",
       "      <td>NaN</td>\n",
       "      <td>NaN</td>\n",
       "      <td>NaN</td>\n",
       "      <td>0</td>\n",
       "    </tr>\n",
       "    <tr>\n",
       "      <th>4</th>\n",
       "      <td>1</td>\n",
       "      <td>957640</td>\n",
       "      <td>C</td>\n",
       "      <td>T</td>\n",
       "      <td>0.03175</td>\n",
       "      <td>0.02016</td>\n",
       "      <td>0.03275</td>\n",
       "      <td>MedGen:C3808739,OMIM:615120|MedGen:CN169374</td>\n",
       "      <td>Myasthenic_syndrome,_congenital,_8|not_specified</td>\n",
       "      <td>NC_000001.10:g.957640C&gt;T</td>\n",
       "      <td>single_nucleotide_variant</td>\n",
       "      <td>AGRN:375790</td>\n",
       "      <td>SO:0001819|synonymous_variant</td>\n",
       "      <td>1.0</td>\n",
       "      <td>NaN</td>\n",
       "      <td>NaN</td>\n",
       "      <td>NaN</td>\n",
       "      <td>NaN</td>\n",
       "      <td>0</td>\n",
       "    </tr>\n",
       "  </tbody>\n",
       "</table>\n",
       "</div>"
      ],
      "text/plain": [
       "  CHROM     POS REF ALT   AF_ESP  AF_EXAC   AF_TGP  \\\n",
       "0     1  955563   G   C  0.00000  0.00114  0.00958   \n",
       "1     1  955597   G   T  0.00000  0.42418  0.28255   \n",
       "2     1  955619   G   C  0.00000  0.03475  0.00879   \n",
       "3     1  957568   A   G  0.01761  0.00493  0.01418   \n",
       "4     1  957640   C   T  0.03175  0.02016  0.03275   \n",
       "\n",
       "                                            CLNDISDB  \\\n",
       "0        MedGen:C3808739,OMIM:615120|MedGen:CN169374   \n",
       "1                                    MedGen:CN169374   \n",
       "2  MedGen:C3808739,OMIM:615120|MedGen:CN169374|Me...   \n",
       "3                                    MedGen:CN169374   \n",
       "4        MedGen:C3808739,OMIM:615120|MedGen:CN169374   \n",
       "\n",
       "                                               CLNDN  \\\n",
       "0   Myasthenic_syndrome,_congenital,_8|not_specified   \n",
       "1                                      not_specified   \n",
       "2  Myasthenic_syndrome,_congenital,_8|not_specifi...   \n",
       "3                                      not_specified   \n",
       "4   Myasthenic_syndrome,_congenital,_8|not_specified   \n",
       "\n",
       "                    CLNHGVS                      CLNVC     GENEINFO  \\\n",
       "0  NC_000001.10:g.955563G>C  single_nucleotide_variant  AGRN:375790   \n",
       "1  NC_000001.10:g.955597G>T  single_nucleotide_variant  AGRN:375790   \n",
       "2  NC_000001.10:g.955619G>C  single_nucleotide_variant  AGRN:375790   \n",
       "3  NC_000001.10:g.957568A>G  single_nucleotide_variant  AGRN:375790   \n",
       "4  NC_000001.10:g.957640C>T  single_nucleotide_variant  AGRN:375790   \n",
       "\n",
       "                              MC  ORIGIN CLNVI CLNDISDBINCL CLNDNINCL  \\\n",
       "0    SO:0001583|missense_variant     1.0   NaN          NaN       NaN   \n",
       "1  SO:0001819|synonymous_variant     1.0   NaN          NaN       NaN   \n",
       "2    SO:0001583|missense_variant     1.0   NaN          NaN       NaN   \n",
       "3      SO:0001627|intron_variant     1.0   NaN          NaN       NaN   \n",
       "4  SO:0001819|synonymous_variant     1.0   NaN          NaN       NaN   \n",
       "\n",
       "  CLNSIGINCL  CLASS  \n",
       "0        NaN      0  \n",
       "1        NaN      0  \n",
       "2        NaN      1  \n",
       "3        NaN      0  \n",
       "4        NaN      0  "
      ]
     },
     "execution_count": 7,
     "metadata": {},
     "output_type": "execute_result"
    }
   ],
   "source": [
    "df.head()"
   ]
  },
  {
   "cell_type": "code",
   "execution_count": 8,
   "metadata": {},
   "outputs": [
    {
     "data": {
      "text/plain": [
       "(93529, 19)"
      ]
     },
     "execution_count": 8,
     "metadata": {},
     "output_type": "execute_result"
    }
   ],
   "source": [
    "df.shape"
   ]
  },
  {
   "cell_type": "markdown",
   "metadata": {},
   "source": [
    "That last command, `df.shape` tell us exactly how many rows we have in this dataset, and how many columns. This is useful information! We'll rely on that again and again."
   ]
  },
  {
   "cell_type": "markdown",
   "metadata": {},
   "source": [
    "### For-Loops and missing value detection in Python\n",
    "If you are new to Python, a very common method of developing a solution is called a for-loop. Basically you'll need to create a list of something, but then you get to walk through that list and perform some type of computation. Let's check it out!"
   ]
  },
  {
   "cell_type": "code",
   "execution_count": 10,
   "metadata": {},
   "outputs": [
    {
     "name": "stdout",
     "output_type": "stream",
     "text": [
      "CHROM\n",
      "POS\n",
      "REF\n",
      "ALT\n",
      "AF_ESP\n",
      "AF_EXAC\n",
      "AF_TGP\n",
      "CLNDISDB\n",
      "CLNDN\n",
      "CLNHGVS\n",
      "CLNVC\n",
      "GENEINFO\n",
      "MC\n",
      "ORIGIN\n",
      "CLNVI\n",
      "CLNDISDBINCL\n",
      "CLNDNINCL\n",
      "CLNSIGINCL\n",
      "CLASS\n"
     ]
    }
   ],
   "source": [
    "for column in list(df):\n",
    "    print (column)"
   ]
  },
  {
   "cell_type": "markdown",
   "metadata": {},
   "source": [
    "The line `list(df)` returns a list of the columns in your dataframe. Based on `df.shape`, it should have 19 items. Then we call the `print()` function on each item in the list. Not too bad!\n",
    "\n",
    "Let's see if we can do a bit more."
   ]
  },
  {
   "cell_type": "code",
   "execution_count": 11,
   "metadata": {},
   "outputs": [
    {
     "name": "stdout",
     "output_type": "stream",
     "text": [
      "Found 0 missing values for column CHROM\n",
      "Found 0 missing values for column POS\n",
      "Found 0 missing values for column REF\n",
      "Found 0 missing values for column ALT\n",
      "Found 0 missing values for column AF_ESP\n",
      "Found 0 missing values for column AF_EXAC\n",
      "Found 0 missing values for column AF_TGP\n",
      "Found 0 missing values for column CLNDISDB\n",
      "Found 0 missing values for column CLNDN\n",
      "Found 0 missing values for column CLNHGVS\n",
      "Found 0 missing values for column CLNVC\n",
      "Found 6948 missing values for column GENEINFO\n",
      "Found 8577 missing values for column MC\n",
      "Found 6948 missing values for column ORIGIN\n",
      "Found 59697 missing values for column CLNVI\n",
      "Found 93402 missing values for column CLNDISDBINCL\n",
      "Found 93402 missing values for column CLNDNINCL\n",
      "Found 93402 missing values for column CLNSIGINCL\n",
      "Found 0 missing values for column CLASS\n"
     ]
    }
   ],
   "source": [
    "for column in list(df):\n",
    "    \n",
    "    missing_values = df[column].isna().sum()\n",
    "    \n",
    "    print ('Found {} missing values for column {}'.format(missing_values, column))"
   ]
  },
  {
   "cell_type": "markdown",
   "metadata": {},
   "source": [
    "Looks like some of those columns have very high frequencies for missing values! Let's dissect it even further, and figure out the percentage that is missing from those columns. We'll use that to figure out if we should just drop those columns, or impute the missing values."
   ]
  },
  {
   "cell_type": "code",
   "execution_count": 14,
   "metadata": {},
   "outputs": [
    {
     "name": "stdout",
     "output_type": "stream",
     "text": [
      "7.0% of values are missing for colum GENEINFO\n",
      "9.0% of values are missing for colum MC\n",
      "7.0% of values are missing for colum ORIGIN\n",
      "64.0% of values are missing for colum CLNVI\n",
      "100.0% of values are missing for colum CLNDISDBINCL\n",
      "100.0% of values are missing for colum CLNDNINCL\n",
      "100.0% of values are missing for colum CLNSIGINCL\n"
     ]
    }
   ],
   "source": [
    "cols_to_check = ['GENEINFO', 'MC', 'ORIGIN', 'CLNVI', 'CLNDISDBINCL', 'CLNDNINCL', 'CLNSIGINCL']\n",
    "\n",
    "for col in cols_to_check:\n",
    "    missing_values = df[col].isna().sum()\n",
    "    percentage = np.round((missing_values/df.shape[0])*100)\n",
    "    print ('{}% of values are missing for colum {}'.format(percentage, col))"
   ]
  },
  {
   "cell_type": "markdown",
   "metadata": {},
   "source": [
    "Ok! Based on this, we should clearly drop the last 4 columns. Let's do that below, but wrap it as a function so we can store the code and reuse it later. "
   ]
  },
  {
   "cell_type": "markdown",
   "metadata": {},
   "source": [
    "### Functions in Python\n",
    "Functions are a crucial step in developing software. Functions help us keep our code modular, clean, reusable, and user-friendly! They're easier to read, understand, and debug. \n",
    "\n",
    "Functions are easy in Python. They will look like this 100% of the time `def function_name(arguments):`. Then, the next lines HAVE TO either have a single indent, or 4 spaces. If you don't like it, write your own software language."
   ]
  },
  {
   "cell_type": "code",
   "execution_count": 25,
   "metadata": {},
   "outputs": [],
   "source": [
    "def drop_missing_columns(df):\n",
    "    cols_to_drop = ['CLNVI', 'CLNDISDBINCL', 'CLNDNINCL', 'CLNSIGINCL']\n",
    "    new_df = df.drop(cols_to_drop, axis=1)\n",
    "    return new_df\n",
    "\n",
    "df = drop_missing_colums(df)"
   ]
  },
  {
   "cell_type": "markdown",
   "metadata": {},
   "source": [
    "OK! Now, if you try running that cell twice, the 2nd time you run it will break. The reason? It's actually dropping those columns from your dataframe, so it's going to break if you try to drop it without having anything there. To get around that, let's add another function that reads in your data from disk, so you can easily get a new dataframe for every new step in your ETL flow."
   ]
  },
  {
   "cell_type": "code",
   "execution_count": 124,
   "metadata": {},
   "outputs": [
    {
     "name": "stderr",
     "output_type": "stream",
     "text": [
      "/home/ec2-user/anaconda3/envs/python3/lib/python3.6/site-packages/IPython/core/interactiveshell.py:2903: DtypeWarning: Columns (0) have mixed types. Specify dtype option on import or set low_memory=False.\n",
      "  if self.run_code(code, result):\n"
     ]
    }
   ],
   "source": [
    "def read_data():\n",
    "    df = pd.read_csv('raw_data.csv')\n",
    "    return df\n",
    "\n",
    "df = read_data()\n",
    "df = drop_missing_columns(df)"
   ]
  },
  {
   "cell_type": "markdown",
   "metadata": {},
   "source": [
    "### Generic Analysis and Plotting in Pandas\n",
    "Ok! You've made it this far. Good job. Now we're going to learn some basic analysis techniques. No matter where you go, as long as you have Python and a csv file, you can use these techniques. "
   ]
  },
  {
   "cell_type": "code",
   "execution_count": 30,
   "metadata": {},
   "outputs": [
    {
     "data": {
      "text/plain": [
       "0    71492\n",
       "1    22037\n",
       "Name: CLASS, dtype: int64"
      ]
     },
     "execution_count": 30,
     "metadata": {},
     "output_type": "execute_result"
    }
   ],
   "source": [
    "df['CLASS'].value_counts()"
   ]
  },
  {
   "cell_type": "markdown",
   "metadata": {},
   "source": [
    "That's a very common method, `.value_counts()`. You need a Pandas Series, or a column. It's a subset of a dataframe, and one of the reasons why they're so popular! Nice and easy to use. Here we're 'indexing' into the dataframe by using `df['CLASS']` to refence just the column named 'CLASS'. Then, we're using `.value_counts()` to figure out how many of one type of value is present in that column, along with the other. "
   ]
  },
  {
   "cell_type": "code",
   "execution_count": 36,
   "metadata": {},
   "outputs": [
    {
     "name": "stdout",
     "output_type": "stream",
     "text": [
      "Class balance is 24.0%\n"
     ]
    }
   ],
   "source": [
    "ratio = 22037 / (22037+71492)\n",
    "print ('Class balance is {}%'.format(np.round(ratio * 100)))"
   ]
  },
  {
   "cell_type": "markdown",
   "metadata": {},
   "source": [
    "This is useful information! This is telling us that out of our entire dataset, 24% of the cases fall into the positive category, into conflicting diagnoses. We are trying to build a model to detect when a diagnosis will be conflicting, so this is extremely relevant."
   ]
  },
  {
   "cell_type": "markdown",
   "metadata": {},
   "source": [
    "#### Distribution Analysis\n",
    "Now, let's loop through all of our remaining columns, and print out the distributions we have. "
   ]
  },
  {
   "cell_type": "code",
   "execution_count": 70,
   "metadata": {},
   "outputs": [
    {
     "data": {
      "text/plain": [
       "array([[<matplotlib.axes._subplots.AxesSubplot object at 0x7fe953c8cfd0>,\n",
       "        <matplotlib.axes._subplots.AxesSubplot object at 0x7fe954afa358>],\n",
       "       [<matplotlib.axes._subplots.AxesSubplot object at 0x7fe951ddf8d0>,\n",
       "        <matplotlib.axes._subplots.AxesSubplot object at 0x7fe954200e48>],\n",
       "       [<matplotlib.axes._subplots.AxesSubplot object at 0x7fe954212400>,\n",
       "        <matplotlib.axes._subplots.AxesSubplot object at 0x7fe953b33978>]],\n",
       "      dtype=object)"
      ]
     },
     "execution_count": 70,
     "metadata": {},
     "output_type": "execute_result"
    },
    {
     "data": {
      "image/png": "[encoded data removed]",
      "text/plain": [
       "<Figure size 432x288 with 6 Axes>"
      ]
     },
     "metadata": {},
     "output_type": "display_data"
    }
   ],
   "source": [
    "df.hist()"
   ]
  },
  {
   "cell_type": "markdown",
   "metadata": {},
   "source": [
    "Now we're getting somewhere. This is telling us that most of our data is not normally distributed. For `AF_ESP, AF_EXAC, AF_TGP, ORIGIN`, there is a strong burst of data at the begining of the distribuion, but then it dramatically falls off. I'm thinking we should create binary indicators here for the column being in that first group. The `POS` data is still somewhat skewed, but it's nowhere near as stark. "
   ]
  },
  {
   "cell_type": "code",
   "execution_count": 126,
   "metadata": {},
   "outputs": [],
   "source": [
    "def convert_cols_to_binary(df):\n",
    "\n",
    "    cols_to_convert_to_binary = {'AF_ESP': 4, 'AF_EXAC':5, 'AF_TGP':6}\n",
    "\n",
    "    # add new columns \n",
    "    for c in cols_to_convert_to_binary.keys():\n",
    "        df['{}_is_zero'.format(c)] =  0\n",
    "        \n",
    "    for idx, row in df.iterrows():\n",
    "    \n",
    "        for k, v in cols_to_convert_to_binary.items():\n",
    "\n",
    "            # if that value is zero\n",
    "            if row[k] in [0, 0.0]:\n",
    "\n",
    "                # add a binary indicator for that column \n",
    "                df.loc[idx, k] = 1\n",
    "                \n",
    "    return df \n",
    "        "
   ]
  },
  {
   "cell_type": "code",
   "execution_count": null,
   "metadata": {},
   "outputs": [],
   "source": [
    "for idx, row in df.iterrows():\n",
    "    \n",
    "    for k, v in cols_to_convert_to_binary.items():\n",
    "\n",
    "        # if that value is zero\n",
    "        if row[k] in [0, 0.0]:\n",
    "\n",
    "            # add a binary indicator for that column \n",
    "            df.loc[idx, k] = 1"
   ]
  },
  {
   "cell_type": "code",
   "execution_count": 5,
   "metadata": {},
   "outputs": [],
   "source": [
    "# dictionaries"
   ]
  },
  {
   "cell_type": "code",
   "execution_count": 9,
   "metadata": {},
   "outputs": [],
   "source": [
    "# missing values"
   ]
  },
  {
   "cell_type": "code",
   "execution_count": 8,
   "metadata": {},
   "outputs": [],
   "source": [
    "# one hot encoding"
   ]
  },
  {
   "cell_type": "code",
   "execution_count": 13,
   "metadata": {},
   "outputs": [],
   "source": [
    "# detecting anomalies"
   ]
  },
  {
   "cell_type": "code",
   "execution_count": 12,
   "metadata": {},
   "outputs": [],
   "source": [
    "# unit tests in Python"
   ]
  },
  {
   "cell_type": "code",
   "execution_count": 14,
   "metadata": {},
   "outputs": [],
   "source": [
    "# map reduce for feature engineering "
   ]
  },
  {
   "cell_type": "code",
   "execution_count": 7,
   "metadata": {},
   "outputs": [],
   "source": [
    "# correlation & decorrelation"
   ]
  },
  {
   "cell_type": "code",
   "execution_count": null,
   "metadata": {},
   "outputs": [],
   "source": [
    "# package your ETL code as an inference pipeline "
   ]
  },
  {
   "cell_type": "code",
   "execution_count": 10,
   "metadata": {},
   "outputs": [],
   "source": [
    "# splitting "
   ]
  },
  {
   "cell_type": "code",
   "execution_count": null,
   "metadata": {},
   "outputs": [],
   "source": []
  }
 ],
 "metadata": {
  "kernelspec": {
   "display_name": "conda_python3",
   "language": "python",
   "name": "conda_python3"
  },
  "language_info": {
   "codemirror_mode": {
    "name": "ipython",
    "version": 3
   },
   "file_extension": ".py",
   "mimetype": "text/x-python",
   "name": "python",
   "nbconvert_exporter": "python",
   "pygments_lexer": "ipython3",
   "version": "3.6.5"
  }
 },
 "nbformat": 4,
 "nbformat_minor": 2
}
