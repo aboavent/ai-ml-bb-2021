{
 "cells": [
  {
   "cell_type": "markdown",
   "metadata": {},
   "source": [
    "# Machine Learning Economics\n",
    "Or, how to evaluate the costs and benefits of a machine learning project propsal in a business setting. There are many types of machine learning that you might want to evaluate; unsupervised clustering, recommendation, anomalty detection, forecasting, etc. Here, we'll focus on classification."
   ]
  },
  {
   "cell_type": "markdown",
   "metadata": {},
   "source": [
    "You will have to assign a quantitative value for each of your model outputs. For classifcation, those are:\n",
    "- False Positives\n",
    "- False Negatives\n",
    "- True Positives\n",
    "- True Negative\n",
    "\n",
    "A false positive is when your model incorrectly classifies an object as falling into the positive class. The ground truth is negative, but your model is classifying it as a positive. Think of an example from disease detection. False positives are highly preferable, because the impact of failing to an instance of the disease is deleterious to human life. Think, \"overzealous detection.\"\n",
    "\n",
    "A false negative is the reverse. Your model fails to detect a positive case. You are classifying the event as negative, but the ground truth is actually positive. Think, \"failure to detect.\"\n",
    "\n",
    "A true positive is when your model correctly predicts a positive case.\n",
    "\n",
    "A true negative is when your model correctly predicts a negative case."
   ]
  },
  {
   "cell_type": "markdown",
   "metadata": {},
   "source": [
    "## Business Case\n",
    "Now, let's decide on the business case. This is a real scenario from the physical world, and you are going to attempt to build a model that will literally resemble the physical universe. That's certainly a tough task, but with our sophisticated machine learning techniques we are discovering ways of doing this reliably."
   ]
  },
  {
   "cell_type": "markdown",
   "metadata": {},
   "source": [
    "Let's consider credit card fraud. Every day, hundreds of thousands of credit card transactions are placed, and only a tiny fraction of those are fraudulent. We need to design a machine learning system capable of detecting that fraud, and we want to make sure that our end result is adding quantitative business value, not detracting from it."
   ]
  },
  {
   "cell_type": "markdown",
   "metadata": {},
   "source": [
    "### Model Outcome Valuation"
   ]
  },
  {
   "cell_type": "markdown",
   "metadata": {},
   "source": [
    "The true positive in fraudulent credit card transactions is INCREDIBLY high value. Every true positive means you are automatically capturing a potentially fraudlent transaction, saving your customer and yourself a tremendous amount of labor and risk."
   ]
  },
  {
   "cell_type": "markdown",
   "metadata": {},
   "source": [
    "Let's assume that, over the course of a year, we're seeing approximate transaction amounts in the following values:\n",
    "\n",
    "- 25 dollars for average legitimate transaction amount\n",
    "- 300 dollars for average fraudulent transaction amount\n",
    "\n",
    "For a start, let's just set the value of our model outputs to those average transaction amounts. In reality the cost and benefits are larger, because it's saving you hours of manual labor to handle these cases.  We'll consider fraud as the positive case, and normal transactions as the negative case."
   ]
  },
  {
   "cell_type": "code",
   "execution_count": 3,
   "metadata": {},
   "outputs": [],
   "source": [
    "true_positive = 300\n",
    "true_negative = 25"
   ]
  },
  {
   "cell_type": "markdown",
   "metadata": {},
   "source": [
    "Now, let's look at the false indicators. "
   ]
  },
  {
   "cell_type": "code",
   "execution_count": 4,
   "metadata": {},
   "outputs": [],
   "source": [
    "# overzealous detection\n",
    "# cost to customer and bank of confirming a legitimate transaction\n",
    "false_positive = 50 "
   ]
  },
  {
   "cell_type": "code",
   "execution_count": 5,
   "metadata": {},
   "outputs": [],
   "source": [
    "# failure to detect\n",
    "# cost to customer and bank of failing to detect a fraudulent transaction\n",
    "false_negative = 500"
   ]
  },
  {
   "cell_type": "markdown",
   "metadata": {},
   "source": [
    "Given these rough, high-level estimates, let's see what our total year costs are going to be if we assume average transaction amounts of the following.\n",
    "- 100,000 transactions per day\n",
    "- 5,000 fraudulent transaction per day"
   ]
  },
  {
   "cell_type": "code",
   "execution_count": 6,
   "metadata": {},
   "outputs": [],
   "source": [
    "total_normal_transactions = 95000 * 365\n",
    "total_fraudulent_transactions = 5000 * 365"
   ]
  },
  {
   "cell_type": "markdown",
   "metadata": {},
   "source": [
    "## Simulations\n",
    "Now, let's run a few very lightweight tests to understand the expected costs and values of our machine learning systems."
   ]
  },
  {
   "cell_type": "code",
   "execution_count": 7,
   "metadata": {},
   "outputs": [
    {
     "name": "stdout",
     "output_type": "stream",
     "text": [
      "Expected value is 547500000\n",
      "Not bad! That's over $547 million. Over half a billion dollars.\n"
     ]
    }
   ],
   "source": [
    "# if we catch all fraud\n",
    "expected_value_for_perfect_recall = total_fraudulent_transactions * true_positive\n",
    "\n",
    "print (\"Expected value is {}\".format(expected_value_for_perfect_recall))\n",
    "print (\"Not bad! That's over $547 million. Over half a billion dollars.\")"
   ]
  },
  {
   "cell_type": "code",
   "execution_count": 8,
   "metadata": {},
   "outputs": [
    {
     "name": "stdout",
     "output_type": "stream",
     "text": [
      "Expected value is 912500000\n",
      "Yikes, that's over $900 million in loss, almost a full billion dollars.\n"
     ]
    }
   ],
   "source": [
    "# if we don't catch any fraud\n",
    "expected_vallue_for_zero_recall = total_fraudulent_transactions * false_negative\n",
    "print (\"Expected value is {}\".format(expected_vallue_for_zero_recall))\n",
    "print (\"Yikes, that's over $900 million in loss, almost a full billion dollars.\")"
   ]
  },
  {
   "cell_type": "markdown",
   "metadata": {},
   "source": [
    "In reality, the model output is going to be somewhere in the middle. Let's assume that after you train your model and tune it in SageMaker, your best recall is 90%."
   ]
  },
  {
   "cell_type": "code",
   "execution_count": 10,
   "metadata": {},
   "outputs": [
    {
     "name": "stdout",
     "output_type": "stream",
     "text": [
      "492750000.0\n",
      "Ok! So we're still saving almost $500M in aggregation.\n"
     ]
    }
   ],
   "source": [
    "print (expected_value_for_perfect_recall * 0.9)\n",
    "\n",
    "print (\"Ok! So we're still saving almost $500M in aggregation.\")"
   ]
  },
  {
   "cell_type": "markdown",
   "metadata": {},
   "source": [
    "But there are costs. If our model is missing 10% of the anomalies, that means 10% of the time we're totally failing to detect these."
   ]
  },
  {
   "cell_type": "code",
   "execution_count": 12,
   "metadata": {},
   "outputs": [
    {
     "name": "stdout",
     "output_type": "stream",
     "text": [
      "-91250000.0\n"
     ]
    }
   ],
   "source": [
    "expected_cost = false_negative * total_fraudulent_transactions * .1\n",
    "print (-expected_cost)"
   ]
  },
  {
   "cell_type": "code",
   "execution_count": 13,
   "metadata": {},
   "outputs": [],
   "source": [
    "expected_value_fraud_capture = expected_value_for_perfect_recall * 0.9 - expected_cost"
   ]
  },
  {
   "cell_type": "markdown",
   "metadata": {},
   "source": [
    "This means, for the positive class, we're driving revenue over $400 million. Now let's take a look at the negative class, or the legitimate transactions."
   ]
  },
  {
   "cell_type": "code",
   "execution_count": 14,
   "metadata": {},
   "outputs": [
    {
     "name": "stdout",
     "output_type": "stream",
     "text": [
      "866875000\n"
     ]
    }
   ],
   "source": [
    "expected_value_for_perfect_precision = total_normal_transactions * true_negative\n",
    "print (expected_value_for_perfect_precision)"
   ]
  },
  {
   "cell_type": "markdown",
   "metadata": {},
   "source": [
    "Great! For correctly classifying all of the normal transactions, we're providing almost $900 million in value. In reality we will probably incorrectly classify at least some of those, so let's reset our precision to 90%."
   ]
  },
  {
   "cell_type": "code",
   "execution_count": 15,
   "metadata": {},
   "outputs": [
    {
     "name": "stdout",
     "output_type": "stream",
     "text": [
      "780187500.0\n",
      "With 90% precision, we're anticipating providing over $700 million in value!\n"
     ]
    }
   ],
   "source": [
    "expected_value_for_normal = total_normal_transactions * true_negative * 0.9\n",
    "print (expected_value_for_normal)\n",
    "print (\"With 90% precision, we're anticipating providing over $700 million in value!\")"
   ]
  },
  {
   "cell_type": "markdown",
   "metadata": {},
   "source": [
    "There are also costs. For the normal case, this means the cost of the false positive. Let's assume we have a 10% false positive rate."
   ]
  },
  {
   "cell_type": "code",
   "execution_count": 17,
   "metadata": {},
   "outputs": [
    {
     "name": "stdout",
     "output_type": "stream",
     "text": [
      "-173375000.0\n"
     ]
    }
   ],
   "source": [
    "expected_cost_false_positive = total_normal_transactions * false_positive * 0.1\n",
    "print (-expected_cost_false_positive)"
   ]
  },
  {
   "cell_type": "markdown",
   "metadata": {},
   "source": [
    "That looks pricy too! Total costs for the false positive at a rate of 10% brings us to just over $150 million. Let's sum up the expected value for handling normal cases."
   ]
  },
  {
   "cell_type": "code",
   "execution_count": 18,
   "metadata": {},
   "outputs": [
    {
     "name": "stdout",
     "output_type": "stream",
     "text": [
      "606812500.0\n"
     ]
    }
   ],
   "source": [
    "total_expected_value_normal = expected_value_for_normal - expected_cost_false_positive\n",
    "print (total_expected_value_normal)"
   ]
  },
  {
   "cell_type": "markdown",
   "metadata": {},
   "source": [
    "Not bad! Our expected value is positive, which is great. That's over $600 million for the normal case. Let's add up the expected value for both the positive and the negative classes, to see where our project stands as a whole."
   ]
  },
  {
   "cell_type": "code",
   "execution_count": 19,
   "metadata": {},
   "outputs": [
    {
     "name": "stdout",
     "output_type": "stream",
     "text": [
      "1181687500.0\n",
      "This is great!! We've hit over $1 billion here in anticipated value.\n"
     ]
    }
   ],
   "source": [
    "expected_value_total_project = expected_value_for_normal + expected_value_fraud_capture\n",
    "print (expected_value_total_project)\n",
    "print (\"This is great!! We've hit over $1 billion here in anticipated value.\")"
   ]
  },
  {
   "cell_type": "code",
   "execution_count": null,
   "metadata": {},
   "outputs": [],
   "source": []
  }
 ],
 "metadata": {
  "kernelspec": {
   "display_name": "conda_python3",
   "language": "python",
   "name": "conda_python3"
  },
  "language_info": {
   "codemirror_mode": {
    "name": "ipython",
    "version": 3
   },
   "file_extension": ".py",
   "mimetype": "text/x-python",
   "name": "python",
   "nbconvert_exporter": "python",
   "pygments_lexer": "ipython3",
   "version": "3.6.5"
  }
 },
 "nbformat": 4,
 "nbformat_minor": 2
}
