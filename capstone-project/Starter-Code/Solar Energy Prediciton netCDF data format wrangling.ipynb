{
 "cells": [
  {
   "cell_type": "markdown",
   "metadata": {},
   "source": [
    "# Sample code for processing netcdf4 files for kaggle Solar Energy Prediction Competition.\n",
    "https://www.kaggle.com/c/ams-2014-solar-energy-prediction-contest#description\n"
   ]
  },
  {
   "cell_type": "code",
   "execution_count": null,
   "metadata": {},
   "outputs": [],
   "source": [
    "# A good link to start wrapping your head around netcdf data format: \n",
    "# https://www.unidata.ucar.edu/software/netcdf/netcdf-4/newdocs/netcdf-tutorial.html#Intro\n",
    "\n",
    "# This is a good link describing the dataset for the competition.\n",
    "# https://www.kaggle.com/c/ams-2014-solar-energy-prediction-contest/discussion/5057\n",
    "\n",
    "# It is important to undertsand that the data provided is the *prediction* of a parameter\n",
    "# (eg. *prediction* of the total precipitation), rather than the *observed* data.\n",
    "# The data is a dictionary of all the helper/axis variables in it once you load the \n",
    "# netcdf4 and the actual data. The actual data is a big array of shape (5113, 11, 5, 9, 16) \n",
    "# with 5113 daily predictions from 1994 to 2007, 11 ensemble members of the GEFS \n",
    "# (different submodel predictions I think), 5 actual predictions (it's released at midnight \n",
    "# I think so it's forcast for 12, 15, 18, 21, and 24 hours out), and 9 latitudes and 16 \n",
    "# longitudes for where the predictions are spatially.\n",
    "# The GEFS is a weather model that just predicts various things at various locations, \n",
    "# and the data is those predictions.\n",
    "\n",
    "# A good python code sample if you prefer a hacker's approach:\n",
    "# http://schubert.atmos.colostate.edu/~cslocum/netcdf_example.html\n"
   ]
  },
  {
   "cell_type": "code",
   "execution_count": null,
   "metadata": {},
   "outputs": [],
   "source": [
    "# Installing netcdf4 python library may be non-trivial. The below code is confirmed to work on AWS SageMaker notebook \n",
    "# with 'conda python 3' kernel"
   ]
  },
  {
   "cell_type": "code",
   "execution_count": null,
   "metadata": {},
   "outputs": [],
   "source": [
    "!conda install -c anaconda netcdf4 --yes\n",
    "from netCDF4 import Dataset"
   ]
  },
  {
   "cell_type": "markdown",
   "metadata": {},
   "source": [
    "The easiest (not necessarily the fastest) way to xfer the data to your SageMaker machine is to:\n",
    "1. download it to your local machine (eg. your laptop)\n",
    "2. upload the file to your AWS S3 bucket (eg: 3://sergey-ML-workshop) \n",
    "3. download the file from AWS S3 bucket to the machine used to host your SageMaker notebook.\n",
    "    3a. in SageMaker Jupyter console, open a terminal window.\n",
    "    3b. in the terminal window, issue a command to copy the file to your data directory. Example:\n",
    "         $cd SageMaker\n",
    "        $cd <YourProjectDirecotory>\n",
    "         $mkdir data\n",
    "        $mkdir data/train\n",
    "         $cd data/train\n",
    "        $aws s3 cp s3://sergey-ML-workshop/data.nc .\n",
    "        \n",
    "        "
   ]
  },
  {
   "cell_type": "code",
   "execution_count": null,
   "metadata": {},
   "outputs": [],
   "source": [
    "dataset = Dataset('./data/train/data.nc')\n",
    "print (dataset.file_format)\n",
    "print ( dataset.dimensions.keys())\n",
    "print ( dataset.dimensions['time'])\n",
    "print (dataset.variables.keys())\n",
    "print (dataset.variables['intTime'][5110:])\n",
    "print (dataset.dimensions['lat'])\n",
    "print (dataset.variables['lat'][0:])\n",
    "print (dataset.dimensions['lon'])\n",
    "print (dataset.variables['lon'][0:])\n",
    "print (dataset.variables['Total_precipitation'])\n",
    "print (dataset.variables['Total_precipitation'][0][0][0][0][0])\n",
    "\n",
    "# per https://www.kaggle.com/c/ams-2014-solar-energy-prediction-contest/discussion/5288, \n",
    "# The ensemble control run (the first ensemble member) should have the best fit initial \n",
    "# conditions for each day. \n",
    "\n"
   ]
  }
 ],
 "metadata": {
  "kernelspec": {
   "display_name": "Python 3",
   "language": "python",
   "name": "python3"
  },
  "language_info": {
   "codemirror_mode": {
    "name": "ipython",
    "version": 3
   },
   "file_extension": ".py",
   "mimetype": "text/x-python",
   "name": "python",
   "nbconvert_exporter": "python",
   "pygments_lexer": "ipython3",
   "version": "3.7.0"
  }
 },
 "nbformat": 4,
 "nbformat_minor": 2
}
